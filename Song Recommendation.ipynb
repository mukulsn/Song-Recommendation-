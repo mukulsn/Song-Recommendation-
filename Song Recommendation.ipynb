{
 "cells": [
  {
   "cell_type": "code",
   "execution_count": 1,
   "metadata": {},
   "outputs": [],
   "source": [
    "# importing data handling libraries\n",
    "import pandas as pd\n",
    "import numpy as np\n",
    "\n",
    "# importing visualization libraries\n",
    "import matplotlib.pyplot as plt\n",
    "import seaborn as sns\n",
    "\n",
    "# importing data transformation libraries\n",
    "from sklearn.decomposition import NMF\n",
    "\n",
    "# importing model building algorithms\n",
    "from sklearn.neighbors import NearestNeighbors"
   ]
  },
  {
   "cell_type": "code",
   "execution_count": 2,
   "metadata": {},
   "outputs": [],
   "source": [
    "# Importing spotify data\n",
    "data = pd.read_csv('spotify.csv', index_col=[0])"
   ]
  },
  {
   "cell_type": "code",
   "execution_count": 3,
   "metadata": {},
   "outputs": [
    {
     "data": {
      "text/html": [
       "<div>\n",
       "<style scoped>\n",
       "    .dataframe tbody tr th:only-of-type {\n",
       "        vertical-align: middle;\n",
       "    }\n",
       "\n",
       "    .dataframe tbody tr th {\n",
       "        vertical-align: top;\n",
       "    }\n",
       "\n",
       "    .dataframe thead th {\n",
       "        text-align: right;\n",
       "    }\n",
       "</style>\n",
       "<table border=\"1\" class=\"dataframe\">\n",
       "  <thead>\n",
       "    <tr style=\"text-align: right;\">\n",
       "      <th></th>\n",
       "      <th>song_1</th>\n",
       "      <th>song_2</th>\n",
       "      <th>song_3</th>\n",
       "      <th>song_4</th>\n",
       "      <th>song_5</th>\n",
       "      <th>song_6</th>\n",
       "      <th>song_7</th>\n",
       "      <th>song_8</th>\n",
       "      <th>song_9</th>\n",
       "      <th>song_10</th>\n",
       "      <th>...</th>\n",
       "      <th>song_4991</th>\n",
       "      <th>song_4992</th>\n",
       "      <th>song_4993</th>\n",
       "      <th>song_4994</th>\n",
       "      <th>song_4995</th>\n",
       "      <th>song_4996</th>\n",
       "      <th>song_4997</th>\n",
       "      <th>song_4998</th>\n",
       "      <th>song_4999</th>\n",
       "      <th>song_5000</th>\n",
       "    </tr>\n",
       "  </thead>\n",
       "  <tbody>\n",
       "    <tr>\n",
       "      <th>user_1</th>\n",
       "      <td>2</td>\n",
       "      <td>2</td>\n",
       "      <td>8</td>\n",
       "      <td>8</td>\n",
       "      <td>13</td>\n",
       "      <td>1</td>\n",
       "      <td>4</td>\n",
       "      <td>9</td>\n",
       "      <td>1</td>\n",
       "      <td>2</td>\n",
       "      <td>...</td>\n",
       "      <td>14</td>\n",
       "      <td>2</td>\n",
       "      <td>14</td>\n",
       "      <td>1</td>\n",
       "      <td>9</td>\n",
       "      <td>0</td>\n",
       "      <td>11</td>\n",
       "      <td>6</td>\n",
       "      <td>14</td>\n",
       "      <td>7</td>\n",
       "    </tr>\n",
       "    <tr>\n",
       "      <th>user_2</th>\n",
       "      <td>13</td>\n",
       "      <td>5</td>\n",
       "      <td>5</td>\n",
       "      <td>5</td>\n",
       "      <td>12</td>\n",
       "      <td>8</td>\n",
       "      <td>10</td>\n",
       "      <td>10</td>\n",
       "      <td>2</td>\n",
       "      <td>2</td>\n",
       "      <td>...</td>\n",
       "      <td>10</td>\n",
       "      <td>6</td>\n",
       "      <td>11</td>\n",
       "      <td>1</td>\n",
       "      <td>1</td>\n",
       "      <td>5</td>\n",
       "      <td>12</td>\n",
       "      <td>8</td>\n",
       "      <td>3</td>\n",
       "      <td>0</td>\n",
       "    </tr>\n",
       "    <tr>\n",
       "      <th>user_3</th>\n",
       "      <td>3</td>\n",
       "      <td>9</td>\n",
       "      <td>2</td>\n",
       "      <td>8</td>\n",
       "      <td>0</td>\n",
       "      <td>1</td>\n",
       "      <td>11</td>\n",
       "      <td>7</td>\n",
       "      <td>3</td>\n",
       "      <td>7</td>\n",
       "      <td>...</td>\n",
       "      <td>9</td>\n",
       "      <td>5</td>\n",
       "      <td>7</td>\n",
       "      <td>15</td>\n",
       "      <td>12</td>\n",
       "      <td>13</td>\n",
       "      <td>14</td>\n",
       "      <td>5</td>\n",
       "      <td>0</td>\n",
       "      <td>14</td>\n",
       "    </tr>\n",
       "    <tr>\n",
       "      <th>user_4</th>\n",
       "      <td>2</td>\n",
       "      <td>6</td>\n",
       "      <td>7</td>\n",
       "      <td>8</td>\n",
       "      <td>14</td>\n",
       "      <td>0</td>\n",
       "      <td>12</td>\n",
       "      <td>7</td>\n",
       "      <td>8</td>\n",
       "      <td>1</td>\n",
       "      <td>...</td>\n",
       "      <td>9</td>\n",
       "      <td>15</td>\n",
       "      <td>9</td>\n",
       "      <td>14</td>\n",
       "      <td>10</td>\n",
       "      <td>6</td>\n",
       "      <td>11</td>\n",
       "      <td>13</td>\n",
       "      <td>6</td>\n",
       "      <td>0</td>\n",
       "    </tr>\n",
       "    <tr>\n",
       "      <th>user_5</th>\n",
       "      <td>11</td>\n",
       "      <td>12</td>\n",
       "      <td>8</td>\n",
       "      <td>6</td>\n",
       "      <td>13</td>\n",
       "      <td>7</td>\n",
       "      <td>0</td>\n",
       "      <td>7</td>\n",
       "      <td>3</td>\n",
       "      <td>13</td>\n",
       "      <td>...</td>\n",
       "      <td>12</td>\n",
       "      <td>14</td>\n",
       "      <td>11</td>\n",
       "      <td>11</td>\n",
       "      <td>11</td>\n",
       "      <td>7</td>\n",
       "      <td>3</td>\n",
       "      <td>6</td>\n",
       "      <td>11</td>\n",
       "      <td>7</td>\n",
       "    </tr>\n",
       "  </tbody>\n",
       "</table>\n",
       "<p>5 rows × 5000 columns</p>\n",
       "</div>"
      ],
      "text/plain": [
       "        song_1  song_2  song_3  song_4  song_5  song_6  song_7  song_8  \\\n",
       "user_1       2       2       8       8      13       1       4       9   \n",
       "user_2      13       5       5       5      12       8      10      10   \n",
       "user_3       3       9       2       8       0       1      11       7   \n",
       "user_4       2       6       7       8      14       0      12       7   \n",
       "user_5      11      12       8       6      13       7       0       7   \n",
       "\n",
       "        song_9  song_10  ...  song_4991  song_4992  song_4993  song_4994  \\\n",
       "user_1       1        2  ...         14          2         14          1   \n",
       "user_2       2        2  ...         10          6         11          1   \n",
       "user_3       3        7  ...          9          5          7         15   \n",
       "user_4       8        1  ...          9         15          9         14   \n",
       "user_5       3       13  ...         12         14         11         11   \n",
       "\n",
       "        song_4995  song_4996  song_4997  song_4998  song_4999  song_5000  \n",
       "user_1          9          0         11          6         14          7  \n",
       "user_2          1          5         12          8          3          0  \n",
       "user_3         12         13         14          5          0         14  \n",
       "user_4         10          6         11         13          6          0  \n",
       "user_5         11          7          3          6         11          7  \n",
       "\n",
       "[5 rows x 5000 columns]"
      ]
     },
     "execution_count": 3,
     "metadata": {},
     "output_type": "execute_result"
    }
   ],
   "source": [
    "# Examining first five rows\n",
    "data.head()"
   ]
  },
  {
   "cell_type": "code",
   "execution_count": 4,
   "metadata": {},
   "outputs": [
    {
     "data": {
      "text/plain": [
       "array([[ 2,  2,  8, ...,  6, 14,  7],\n",
       "       [13,  5,  5, ...,  8,  3,  0],\n",
       "       [ 3,  9,  2, ...,  5,  0, 14],\n",
       "       ...,\n",
       "       [ 6,  2,  1, ..., 13,  6, 13],\n",
       "       [ 7,  0,  8, ..., 11,  9, 12],\n",
       "       [ 6, 15,  0, ..., 15,  4,  5]], dtype=int64)"
      ]
     },
     "execution_count": 4,
     "metadata": {},
     "output_type": "execute_result"
    }
   ],
   "source": [
    "# converting dataframe into array\n",
    "X = data.values\n",
    "X"
   ]
  },
  {
   "cell_type": "code",
   "execution_count": 9,
   "metadata": {},
   "outputs": [
    {
     "data": {
      "text/plain": [
       "NMF(alpha=0.0, beta_loss='frobenius', init=None, l1_ratio=0.0, max_iter=100,\n",
       "  n_components=100, random_state=200, shuffle=False, solver='cd',\n",
       "  tol=0.0001, verbose=0)"
      ]
     },
     "execution_count": 9,
     "metadata": {},
     "output_type": "execute_result"
    }
   ],
   "source": [
    "# Non-Negative Matrix Factorization (NMF)\n",
    "nmf = NMF(n_components=100, max_iter=100, random_state=200)\n",
    "nmf.fit(X)"
   ]
  },
  {
   "cell_type": "code",
   "execution_count": 10,
   "metadata": {},
   "outputs": [
    {
     "data": {
      "text/plain": [
       "(1000, 100)"
      ]
     },
     "execution_count": 10,
     "metadata": {},
     "output_type": "execute_result"
    }
   ],
   "source": [
    "user_matrix = nmf.transform(X)\n",
    "user_matrix.shape"
   ]
  },
  {
   "cell_type": "code",
   "execution_count": 11,
   "metadata": {},
   "outputs": [
    {
     "data": {
      "text/plain": [
       "(100, 5000)"
      ]
     },
     "execution_count": 11,
     "metadata": {},
     "output_type": "execute_result"
    }
   ],
   "source": [
    "song_matrix = nmf.components_\n",
    "song_matrix.shape"
   ]
  },
  {
   "cell_type": "code",
   "execution_count": 12,
   "metadata": {},
   "outputs": [],
   "source": [
    "song_matrix=song_matrix.T"
   ]
  },
  {
   "cell_type": "code",
   "execution_count": 56,
   "metadata": {},
   "outputs": [
    {
     "data": {
      "text/plain": [
       "array([[0.23257865, 0.26120841, 0.48576346, ..., 0.        , 0.        ,\n",
       "        0.        ],\n",
       "       [0.28666778, 0.        , 0.09358127, ..., 0.21990953, 0.37204496,\n",
       "        0.21968891],\n",
       "       [0.        , 0.15075862, 0.        , ..., 0.07416342, 0.08479278,\n",
       "        0.1447322 ],\n",
       "       ...,\n",
       "       [0.43450893, 0.3531985 , 0.        , ..., 0.        , 0.        ,\n",
       "        0.10815537],\n",
       "       [0.50718476, 0.244407  , 0.17067294, ..., 0.05029539, 0.07632326,\n",
       "        0.19074316],\n",
       "       [0.39028082, 0.13910588, 0.17594348, ..., 0.00711704, 0.23741945,\n",
       "        0.29070006]])"
      ]
     },
     "execution_count": 56,
     "metadata": {},
     "output_type": "execute_result"
    }
   ],
   "source": [
    "song_matrix"
   ]
  },
  {
   "cell_type": "markdown",
   "metadata": {},
   "source": [
    "## Step in Building the System\n",
    "### Step 1: Consider recm songs to user 1.\n",
    "### Step 2: Find the eulcidean distance bw user 1 and all the other users.\n",
    "### Step 3: Find out the songs heard frequenly by the closest 5 users.\n",
    "### Step 4: Recm these to user 1."
   ]
  },
  {
   "cell_type": "code",
   "execution_count": 10,
   "metadata": {},
   "outputs": [],
   "source": [
    "#Calculating eD\n",
    "def cal_ed(u1,u2):\n",
    "    return pow(sum([pow(u1[x]-u2[x],2) for x in range(len(u1))]),0.5)"
   ]
  },
  {
   "cell_type": "code",
   "execution_count": 11,
   "metadata": {},
   "outputs": [
    {
     "data": {
      "text/plain": [
       "12.487014397395448"
      ]
     },
     "execution_count": 11,
     "metadata": {},
     "output_type": "execute_result"
    }
   ],
   "source": [
    "cal_ed(user_matrix[0],user_matrix[1])"
   ]
  },
  {
   "cell_type": "code",
   "execution_count": 12,
   "metadata": {},
   "outputs": [],
   "source": [
    "#Calculating distances from base user to all the users\n",
    "def caldistfromusers(user,user_matrix):\n",
    "    import sys\n",
    "    distance = []\n",
    "    for i in range(len(user_matrix)):\n",
    "        if user != i:\n",
    "            distance.append(cal_ed(user_matrix[user],user_matrix[i]))\n",
    "        else:\n",
    "            distance.append(sys.float_info.max)\n",
    "    return distance"
   ]
  },
  {
   "cell_type": "code",
   "execution_count": 13,
   "metadata": {},
   "outputs": [],
   "source": [
    "dist_user1=caldistfromusers(0,user_matrix)"
   ]
  },
  {
   "cell_type": "code",
   "execution_count": 14,
   "metadata": {},
   "outputs": [],
   "source": [
    "#Finsing the closest 5 user at thier indexes\n",
    "user_index=np.argsort(dist_user1)[0:5]"
   ]
  },
  {
   "cell_type": "code",
   "execution_count": 15,
   "metadata": {},
   "outputs": [
    {
     "data": {
      "text/plain": [
       "array([562, 962, 183, 442, 463], dtype=int64)"
      ]
     },
     "execution_count": 15,
     "metadata": {},
     "output_type": "execute_result"
    }
   ],
   "source": [
    "user_index"
   ]
  },
  {
   "cell_type": "code",
   "execution_count": 16,
   "metadata": {},
   "outputs": [
    {
     "name": "stdout",
     "output_type": "stream",
     "text": [
      "Songs heard by the user in index  562  are\n",
      "Index(['song_1', 'song_2', 'song_4', 'song_5', 'song_6', 'song_7', 'song_8',\n",
      "       'song_9', 'song_10', 'song_11',\n",
      "       ...\n",
      "       'song_4990', 'song_4991', 'song_4992', 'song_4993', 'song_4994',\n",
      "       'song_4995', 'song_4997', 'song_4998', 'song_4999', 'song_5000'],\n",
      "      dtype='object', length=4688)\n",
      "Songs heard by the user in index  962  are\n",
      "Index(['song_1', 'song_2', 'song_3', 'song_4', 'song_5', 'song_6', 'song_7',\n",
      "       'song_8', 'song_9', 'song_10',\n",
      "       ...\n",
      "       'song_4991', 'song_4992', 'song_4993', 'song_4994', 'song_4995',\n",
      "       'song_4996', 'song_4997', 'song_4998', 'song_4999', 'song_5000'],\n",
      "      dtype='object', length=4685)\n",
      "Songs heard by the user in index  183  are\n",
      "Index(['song_1', 'song_2', 'song_3', 'song_4', 'song_5', 'song_6', 'song_7',\n",
      "       'song_8', 'song_9', 'song_10',\n",
      "       ...\n",
      "       'song_4991', 'song_4992', 'song_4993', 'song_4994', 'song_4995',\n",
      "       'song_4996', 'song_4997', 'song_4998', 'song_4999', 'song_5000'],\n",
      "      dtype='object', length=4713)\n",
      "Songs heard by the user in index  442  are\n",
      "Index(['song_1', 'song_2', 'song_3', 'song_4', 'song_5', 'song_6', 'song_7',\n",
      "       'song_8', 'song_9', 'song_10',\n",
      "       ...\n",
      "       'song_4991', 'song_4992', 'song_4993', 'song_4994', 'song_4995',\n",
      "       'song_4996', 'song_4997', 'song_4998', 'song_4999', 'song_5000'],\n",
      "      dtype='object', length=4678)\n",
      "Songs heard by the user in index  463  are\n",
      "Index(['song_1', 'song_2', 'song_3', 'song_4', 'song_5', 'song_6', 'song_7',\n",
      "       'song_8', 'song_9', 'song_10',\n",
      "       ...\n",
      "       'song_4990', 'song_4991', 'song_4993', 'song_4994', 'song_4995',\n",
      "       'song_4996', 'song_4997', 'song_4998', 'song_4999', 'song_5000'],\n",
      "      dtype='object', length=4704)\n"
     ]
    }
   ],
   "source": [
    "# Finding the songs head by the closest users\n",
    "for i in user_index:\n",
    "    print(\"Songs heard by the user in index \" , i ,\" are\")\n",
    "    temp=pd.DataFrame(data.iloc[i])\n",
    "    print(temp[temp.values !=0].index)"
   ]
  },
  {
   "cell_type": "code",
   "execution_count": 22,
   "metadata": {},
   "outputs": [],
   "source": [
    "# Get top5 songs\n",
    "def gettop5songs(user_index, data):\n",
    "    temp_df = data.iloc[user_index]\n",
    "    # print(temp_df.head(2))\n",
    "    dict1 = temp_df.max().to_dict()\n",
    "    # print(dict1)\n",
    "    sorted_dict = sorted(dict1.items(), key=lambda kv: (\n",
    "        kv[1], kv[0]), reverse=True)[:5]\n",
    "    # print(dict1.items())\n",
    "    return [x[0] for x in sorted_dict]"
   ]
  },
  {
   "cell_type": "code",
   "execution_count": 23,
   "metadata": {},
   "outputs": [
    {
     "data": {
      "text/plain": [
       "['song_999', 'song_997', 'song_993', 'song_990', 'song_984']"
      ]
     },
     "execution_count": 23,
     "metadata": {},
     "output_type": "execute_result"
    }
   ],
   "source": [
    "gettop5songs(user_index,data)"
   ]
  },
  {
   "cell_type": "code",
   "execution_count": 28,
   "metadata": {},
   "outputs": [],
   "source": [
    "# Recommend the songs\n",
    "def recsongs(user_index, user_matrix, data):\n",
    "    dist_from_user = caldistfromusers(user_index, user_matrix)\n",
    "    closest5user = np.argsort(dist_from_user)[0:5]\n",
    "    return gettop5songs(closest5user, data)"
   ]
  },
  {
   "cell_type": "code",
   "execution_count": 16,
   "metadata": {},
   "outputs": [],
   "source": [
    "# recsongs(15,user_matrix,data)\n",
    "from sklearn.cluster import KMeans"
   ]
  },
  {
   "cell_type": "code",
   "execution_count": 30,
   "metadata": {},
   "outputs": [],
   "source": [
    "#K means clusturing\n",
    "\n",
    "withinclusture_mean_sqr_error = {}\n",
    "for k in range(1,40):\n",
    "    kmeans=KMeans(n_clusters=k,max_iter=1000).fit(song_matrix)\n",
    "    withinclusture_mean_sqr_error[k]=kmeans.inertia_"
   ]
  },
  {
   "cell_type": "code",
   "execution_count": 31,
   "metadata": {},
   "outputs": [
    {
     "data": {
      "image/png": "[encoded data removed]",
      "text/plain": [
       "<Figure size 432x288 with 1 Axes>"
      ]
     },
     "metadata": {
      "needs_background": "light"
     },
     "output_type": "display_data"
    }
   ],
   "source": [
    "# elbow curve\n",
    "plt.figure()\n",
    "plt.plot(list(withinclusture_mean_sqr_error.keys()),\n",
    "         list(withinclusture_mean_sqr_error.values()))\n",
    "plt.xlabel(\"Number of clusturs\")\n",
    "plt.ylabel(\"Mean Sqr error\")\n",
    "plt.show()"
   ]
  },
  {
   "cell_type": "code",
   "execution_count": 62,
   "metadata": {},
   "outputs": [],
   "source": [
    "# prediction are heppening from song point of view and not user point of view\n",
    "\n",
    "\n",
    "def ReturnSongsInCluster(data_columns, n_cluster, sng_matrix, song_name, n_recommendation):\n",
    "\n",
    "    kmeans = KMeans(n_clusters=n_cluster, max_iter=1000).fit(\n",
    "        sng_matrix)  # Make clustures\n",
    "\n",
    "    # Get the index of the song on basis of which rec happens\n",
    "    index_in_song = data.columns.to_list().index(song_name)\n",
    "\n",
    "    # take the listeing values from the song matrix and seprate it from the rest\n",
    "    song_vector = sng_matrix[index_in_song]\n",
    "\n",
    "    # Check to which clusture does this song belongs.\n",
    "    all_songs_in_cluster = list(kmeans.predict(sng_matrix))\n",
    "\n",
    "    songs_in_selected_cluster = [x for x in range(len(\n",
    "        all_songs_in_cluster)) if all_songs_in_cluster[x] == kmeans.predict([song_vector])]\n",
    "    # take up all the songs that belong to this clusture\n",
    "\n",
    "    # Get the song names from the matrix on basis of the previous output\n",
    "    song_cluster = sng_matrix[songs_in_selected_cluster]\n",
    "\n",
    "    # KNN for neighboring songs\n",
    "    knn = NearestNeighbors(n_neighbors=n_recommendation)\n",
    "\n",
    "    knn.fit(song_cluster)  # Fit the clusture\n",
    "\n",
    "    # predict the top 1 song on basis of the times heard decomposed value\n",
    "    recommended_songs = knn.kneighbors([sng_matrix[index_in_song]])[1]\n",
    "\n",
    "    return data_columns[recommended_songs]"
   ]
  },
  {
   "cell_type": "code",
   "execution_count": 63,
   "metadata": {},
   "outputs": [
    {
     "data": {
      "text/plain": [
       "Index([['song_1', 'song_61', 'song_16', 'song_55', 'song_79']], dtype='object')"
      ]
     },
     "execution_count": 63,
     "metadata": {},
     "output_type": "execute_result"
    }
   ],
   "source": [
    "ReturnSongsInCluster(data.columns, 23, song_matrix, 'song_5', 5)"
   ]
  },
  {
   "cell_type": "code",
   "execution_count": 64,
   "metadata": {},
   "outputs": [
    {
     "data": {
      "text/plain": [
       "Index(['song_1', 'song_2', 'song_3', 'song_4', 'song_5', 'song_6', 'song_7',\n",
       "       'song_8', 'song_9', 'song_10',\n",
       "       ...\n",
       "       'song_4991', 'song_4992', 'song_4993', 'song_4994', 'song_4995',\n",
       "       'song_4996', 'song_4997', 'song_4998', 'song_4999', 'song_5000'],\n",
       "      dtype='object', length=5000)"
      ]
     },
     "execution_count": 64,
     "metadata": {},
     "output_type": "execute_result"
    }
   ],
   "source": [
    "data.columns"
   ]
  },
  {
   "cell_type": "code",
   "execution_count": null,
   "metadata": {},
   "outputs": [],
   "source": []
  }
 ],
 "metadata": {
  "kernelspec": {
   "display_name": "Python 3",
   "language": "python",
   "name": "python3"
  },
  "language_info": {
   "codemirror_mode": {
    "name": "ipython",
    "version": 3
   },
   "file_extension": ".py",
   "mimetype": "text/x-python",
   "name": "python",
   "nbconvert_exporter": "python",
   "pygments_lexer": "ipython3",
   "version": "3.7.6"
  },
  "varInspector": {
   "cols": {
    "lenName": 16,
    "lenType": 16,
    "lenVar": 40
   },
   "kernels_config": {
    "python": {
     "delete_cmd_postfix": "",
     "delete_cmd_prefix": "del ",
     "library": "var_list.py",
     "varRefreshCmd": "print(var_dic_list())"
    },
    "r": {
     "delete_cmd_postfix": ") ",
     "delete_cmd_prefix": "rm(",
     "library": "var_list.r",
     "varRefreshCmd": "cat(var_dic_list()) "
    }
   },
   "types_to_exclude": [
    "module",
    "function",
    "builtin_function_or_method",
    "instance",
    "_Feature"
   ],
   "window_display": false
  }
 },
 "nbformat": 4,
 "nbformat_minor": 2
}
